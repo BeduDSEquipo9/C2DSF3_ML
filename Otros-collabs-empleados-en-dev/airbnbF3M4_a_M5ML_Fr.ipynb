{
  "cells": [
    {
      "cell_type": "markdown",
      "metadata": {
        "id": "iAOKMfw1u1Ug"
      },
      "source": [
        "#***Análisis de datos con Python Santander 2023***\n",
        "*(Data Analysis with Python)*\n",
        "\n",
        "#***Determinación del precio de la propiedad Airbnb***\n",
        "\n",
        "\n",
        "> (Una pregunta recurrente para alguien que desea ofertar la propiedad en la plataforma es: ¿Cuánto debo cobrar por alquilar mi propiedad en Airbnb?)\n",
        "\n",
        "\n",
        "<BR>\n",
        "\n",
        "##*Equipo 8*\n",
        "\n",
        "##*Fase3-Módulo 4*\n",
        "\n",
        "##*Integrantes:*\n",
        "\n",
        "* Isidro Amaro\n",
        "* Francisco Gómez\n",
        "* Tomás Antonio Hernández Pineda\n",
        "* José Luis Herrera Gallardo\n",
        "* Christian E. Millán Hernández\n",
        "\n",
        "\n",
        "##<div class=\"markdown-google-sans\"><a name=\"contenido\">Contenido</a></div> \n",
        "\n",
        "* [Introducción](#introduccion)\n",
        "* [Importación de librerías](#librerias)\n",
        "* [Carga y revisión del conjunto de datos](#carga-revision)\n",
        "* País: Estados Unidos\n",
        "* Análisis de 6 ciudades\n",
        "  * Boston\n",
        "  * Chicago\n",
        "  * Los Angeles\n",
        "  * Nueva York\n",
        "  * San Francisco\n",
        "  * Washington DC\n",
        "\n",
        "\n",
        "\n",
        "* [Estimados de Locación y Variabilidad.](#estimados)\n",
        "* [Introducción a la visualización de datos.](#visualizacion-datos)\n",
        "* [Exploración de Variables Categóricas y Análisis Multivariable.](#var-cat)\n",
        "* [Correlaciones y Regresión Linear Simple.](#corr-reg-lin)\n",
        "* [Distribuciones muestrales y técnicas de evaluación de modelos.](#dist-eval-mods)\n",
        "* [Visualización de Datos Avanzada.](#visualizacion-avanzada)\n",
        "* [Pruebas A/B y Procesamiento de Lenguaje Natural.](#nlp)\n",
        "* [Introducción a Machine Learning: Clasificación No Supervisada y Supervisada.](#ml)\n",
        "\n",
        "* [Conclusiones y siguientes pasos](#conclusiones)\n",
        "\n",
        "## Extras:\n",
        "\n",
        "* [Obtención de datos adicionales con Web Scraping](#webscraping)\n",
        "\n",
        "## Enlaces\n",
        "   \n",
        "* [Presentación](https://docs.google.com/presentation/d/15a6yKehSkqinzb1_AUu4_btrAqpmGeVi/edit?usp=share_link&ouid=114487294612860477624&rtpof=true&sd=true)\n",
        "\n",
        "* [Google Drive del Proyecto](https://drive.google.com/drive/folders/1qBsX0362VeaOsYH5vePxzqEwFHYvtC2_?usp=share_link)\n",
        "\n",
        "\n",
        "* [Github repo del Proyecto](https://github.com/BeduDSEquipo9/C2DSF3_DAwPython)\n",
        "\n",
        "* [Web Scraping Colab](https://colab.research.google.com/drive/19HFEGmKSxEVSvJzStKxA1V0jfRXFas8T?usp=share_link)\n",
        "\n"
      ]
    },
    {
      "cell_type": "markdown",
      "metadata": {
        "id": "cV86lYVO9BoG"
      },
      "source": [
        "#<div class=\"markdown-google-sans\"><a name=\"introduccion\">Introducción</a></div>\n",
        "\n",
        "De acuerdo a un análisis preliminar a los datos de la empresa Airbnb, se identificó el problema de la determinación del precio de las propiedades en arrendamiento, debido a una pregunta recurrente ¿Cuánto se debe cobrar por el alquiler de la propiedad?\n",
        "\n",
        "Tras plantear una serie de preguntas, se recolectaron de fuentes públicas diversos conjuntos de datos con información proveniente de Airbnb. Las principales diferencias entre ellos son las fechas de extracción, las zonas geográficas, el número de observaciones y la cantidad de variables incluidas. \n",
        "\n",
        "Después de un análisis preliminar, se terminó por elegir un conjunto de datos, obtenido de Kaggle, que posee información de 6 de las ciudades más importantes de Estados Unidos: Boston, Chicago, San Francisco, Los Ángeles, Nueva York y Washington DC, mismo que ayudará a responder las preguntas de investigación planteadas.\n",
        "\n",
        "Cabe señalar que dicho conjunto de datos ya fue preprocesado en los módulos anteriores."
      ]
    },
    {
      "cell_type": "markdown",
      "metadata": {
        "id": "PPAwB2wc9S-p"
      },
      "source": [
        "#####([Regresar a la tabla de contenidos.](#contenido))"
      ]
    },
    {
      "cell_type": "markdown",
      "metadata": {
        "id": "13XrCYO6bA5E"
      },
      "source": [
        "#<div class=\"markdown-google-sans\"><a name=\"librerias\">Importación de librerías</a></div> \n",
        "Se importan las librerías para el proyecto de análisis de datos.\n"
      ]
    },
    {
      "cell_type": "code",
      "execution_count": null,
      "metadata": {
        "colab": {
          "base_uri": "https://localhost:8080/"
        },
        "id": "Nnt7sU5vwUQD",
        "outputId": "c2e96379-3f4a-405e-e13a-bad05cdd0d6b"
      },
      "outputs": [],
      "source": [
        "!pip install contractions"
      ]
    },
    {
      "cell_type": "code",
      "execution_count": 75,
      "metadata": {
        "id": "29buyq4bmdKc"
      },
      "outputs": [],
      "source": [
        "# Data wrangling\n",
        "import pandas as pd\n",
        "import numpy as np\n",
        "from scipy import stats\n",
        "\n",
        "# Data Visualization\n",
        "import seaborn as sns\n",
        "import matplotlib.pyplot as plt\n",
        "import plotly.express as px\n",
        "import nltk\n",
        "from nltk.corpus import stopwords\n",
        "from wordcloud import WordCloud\n",
        "import urllib.request\n",
        "import math\n",
        "from scipy.stats import skew, kurtosis\n",
        "import matplotlib as mpl\n",
        "import matplotlib.font_manager as fm\n",
        "import folium\n",
        "\n",
        "# Dimensionality reduction\n",
        "from sklearn.feature_selection import SelectKBest, f_classif\n",
        "from sklearn.feature_selection import SelectKBest, f_regression\n",
        "\n",
        "# Statistics\n",
        "from scipy.stats import ks_2samp\n",
        "from scipy.stats import chisquare\n",
        "from sklearn.linear_model import Lasso, LinearRegression, Ridge, Lars, ElasticNet, BayesianRidge\n",
        "from sklearn.model_selection import cross_val_score, train_test_split, GridSearchCV\n",
        "from sklearn.metrics import mean_absolute_error, r2_score\n",
        "from sklearn.preprocessing import StandardScaler, MinMaxScaler, LabelEncoder, OrdinalEncoder\n",
        "from sklearn.pipeline import make_pipeline\n",
        "from sklearn.linear_model import LogisticRegression\n",
        "from sklearn.discriminant_analysis import LinearDiscriminantAnalysis\n",
        "from sklearn.metrics import accuracy_score, confusion_matrix\n",
        "from sklearn.metrics import precision_recall_curve, precision_score, recall_score, classification_report\n",
        "from sklearn.metrics import mean_squared_error\n",
        "from sklearn.model_selection import cross_validate\n",
        "\n",
        "#Librerías necesarias para la limpieza de texto\n",
        "import string\n",
        "import nltk\n",
        "from nltk.corpus import stopwords\n",
        "from nltk.util import ngrams\n",
        "import contractions\n",
        "import re\n",
        "\n",
        "#Librerías necesarias para abrir imágenes, generar nube de palabras y plot\n",
        "import urllib.request\n",
        "from PIL import Image\n",
        "from wordcloud import ImageColorGenerator"
      ]
    },
    {
      "cell_type": "markdown",
      "metadata": {
        "id": "aINf2B7e4QW6"
      },
      "source": [
        "#####([Regresar a la tabla de contenidos.](#contenido))"
      ]
    },
    {
      "cell_type": "markdown",
      "metadata": {
        "id": "ocZAdLUu0MHu"
      },
      "source": [
        "#<div class=\"markdown-google-sans\"><a name=\"carga-revision\">Carga y revisión del conjunto de datos</a></div> \n",
        "Se realiza la carga del conjunto de datos y un rápido análisis exploratorio."
      ]
    },
    {
      "cell_type": "markdown",
      "metadata": {
        "id": "kSSPL6CQdv85"
      },
      "source": [
        "El conjunto de datos se encuentra almacenado en el Repositorio de Github que precede este análisis y en sus Google Drive. \n",
        "\n",
        "Si se quiere acceder vía Drive, es necesario habilitar el acceso a Google Colaboratory con la finalidad de cargar los datos. Enseguida, ejecute el siguiente par de celdas."
      ]
    },
    {
      "cell_type": "code",
      "execution_count": null,
      "metadata": {
        "id": "I_vMIjN0x_qb"
      },
      "outputs": [],
      "source": [
        "#from google.colab import drive\n",
        "#drive.mount('/content/drive/')"
      ]
    },
    {
      "cell_type": "code",
      "execution_count": null,
      "metadata": {
        "id": "Iks521fOZwGK"
      },
      "outputs": [],
      "source": [
        "#Archivo local en GDrive\n",
        "\n",
        "#Clean Dataset as Entry data to this analysis.\n",
        "#/content/drive/MyDrive/BEDU/BEDUDS2022/BEDUDSF3M4PythonDataAnalisys2023Class/Gdrive_DAwPython/Datasets/airbnb_clean_F2M4_PostworkX.csv\n",
        "\n",
        "#GDrive_Path='/content/drive/MyDrive/BEDU/BEDUDS2022/BEDUDSF3M4PythonDataAnalisys2023Class/Gdrive_DAwPython/'\n",
        "#Datasets_Folder=GDrive_Path+'Datasets/'\n",
        "#file_path=Datasets_Folder+filename\n",
        "#print('Usando GDrivePath:'+file_path)"
      ]
    },
    {
      "cell_type": "markdown",
      "metadata": {
        "id": "k1knmZGmvVJA"
      },
      "source": [
        "Sin embargo, como también se encuentra en Github, se recomienda acceder directamente desde este repositorio. De hecho, este notebook se ejecuta leyendo desde esta última fuente.\n",
        "\n",
        "Nótese que el conjunto de datos está almacenado en formato `csv`, por lo que se utiliza `pd.read_csv()` para crear un objeto de tipo DataFrame."
      ]
    },
    {
      "cell_type": "code",
      "execution_count": 76,
      "metadata": {
        "id": "4DuOPUqeudgk"
      },
      "outputs": [],
      "source": [
        "#Dataset filename\n",
        "filename='airbnb_clean_F2M4_Postwork7.csv'\n",
        "imagename='airbnbBW.png'"
      ]
    },
    {
      "cell_type": "code",
      "execution_count": 77,
      "metadata": {
        "colab": {
          "base_uri": "https://localhost:8080/"
        },
        "id": "1D41TQtGcLaH",
        "outputId": "ea8246e2-29f0-421d-b648-7366d8f63e3d"
      },
      "outputs": [
        {
          "name": "stdout",
          "output_type": "stream",
          "text": [
            "Usando GithubPath: https://raw.githubusercontent.com/BeduDSEquipo9/C2DSF3_DAwPython/main/Datasets/airbnb_clean_F2M4_Postwork7.csv\n",
            "Usando GithubPath image: https://raw.githubusercontent.com/BeduDSEquipo9/C2DSF3_DAwPython/main/images/airbnbBW.png\n"
          ]
        }
      ],
      "source": [
        "#Ruta al repo del archivo Github de Procesamiento de Datos con Python\n",
        "\n",
        "Github_path = 'https://raw.githubusercontent.com/BeduDSEquipo9/C2DSF3_DAwPython/main/Datasets/'\n",
        "Github_path_image = 'https://raw.githubusercontent.com/BeduDSEquipo9/C2DSF3_DAwPython/main/images/'\n",
        "\n",
        "file_path=Github_path+filename\n",
        "file_path_image=Github_path_image+imagename\n",
        "\n",
        "print('Usando GithubPath: '+file_path)\n",
        "print('Usando GithubPath image: '+file_path_image)"
      ]
    },
    {
      "cell_type": "code",
      "execution_count": 78,
      "metadata": {
        "id": "-hc06Kf3Z9y6"
      },
      "outputs": [],
      "source": [
        "data=pd.read_csv(file_path) "
      ]
    },
    {
      "cell_type": "markdown",
      "metadata": {
        "id": "w3RNgXGTvVzn"
      },
      "source": [
        "Una vez cargados los datos en un DataFrame, se revisan. \n",
        "\n",
        "Hay que recordar que el conjunto de datos contiene información de diversas propiedades en algunas de las ciudades más importantes de Estados Unidos y que están listadas en la plataforma Airbnb para rentar.\n",
        "\n",
        "Para revisar la estructura y ejemplos de los primeros y últimos registros, se utilizan las funciones `head()` y `tail()`.\n"
      ]
    },
    {
      "cell_type": "code",
      "execution_count": null,
      "metadata": {
        "colab": {
          "base_uri": "https://localhost:8080/",
          "height": 664
        },
        "id": "pH1vtuN_PdEv",
        "outputId": "ce98268f-4319-4212-97b3-43e223767e70"
      },
      "outputs": [],
      "source": [
        "data.head()"
      ]
    },
    {
      "cell_type": "code",
      "execution_count": null,
      "metadata": {
        "colab": {
          "base_uri": "https://localhost:8080/",
          "height": 664
        },
        "id": "UKgeUTCvQ0Oy",
        "outputId": "f18e8339-90e9-4d28-c546-600f9ecade66"
      },
      "outputs": [],
      "source": [
        "data.tail()"
      ]
    },
    {
      "cell_type": "markdown",
      "metadata": {
        "id": "N7aMfvfoPb-x"
      },
      "source": [
        "El conjunto de datos contiene 59,288 observaciones y 26\n",
        " variables, de acuerdo con el resultado obtenido con el atributo `shape`."
      ]
    },
    {
      "cell_type": "code",
      "execution_count": null,
      "metadata": {
        "colab": {
          "base_uri": "https://localhost:8080/"
        },
        "id": "kDiMNXZkx0UD",
        "outputId": "59ededa6-47cc-443b-9077-08f7b5e6d5dc"
      },
      "outputs": [],
      "source": [
        "data.shape"
      ]
    },
    {
      "cell_type": "markdown",
      "metadata": {
        "id": "VARofTITvWz2"
      },
      "source": [
        "Para conocer más detalles de la información se utiliza el método `info()`. Se distingue que ninguna de las variables contiene valores nulos y que la mayoría son valores numéricos (con excepción de los tipo *object*)."
      ]
    },
    {
      "cell_type": "code",
      "execution_count": null,
      "metadata": {
        "colab": {
          "base_uri": "https://localhost:8080/"
        },
        "id": "_w0JLceteDbq",
        "outputId": "c7b9d572-3d3a-4176-e593-5171ca1b4278"
      },
      "outputs": [],
      "source": [
        "data.info()"
      ]
    },
    {
      "cell_type": "markdown",
      "metadata": {
        "id": "lpt7rKsXaiO9"
      },
      "source": [
        "Otra opción para revisar los tipos de dato es con el atributo `dtypes`."
      ]
    },
    {
      "cell_type": "code",
      "execution_count": null,
      "metadata": {
        "colab": {
          "base_uri": "https://localhost:8080/"
        },
        "id": "GmJEBcbb47Nb",
        "outputId": "01b3de76-8acd-4549-faa7-b4560ad646c1"
      },
      "outputs": [],
      "source": [
        "data.dtypes"
      ]
    },
    {
      "cell_type": "markdown",
      "metadata": {
        "id": "rlcx6azN53Ru"
      },
      "source": [
        "Como confirmación, con `isnull()` se verifica si existen valores ausentes o nulos."
      ]
    },
    {
      "cell_type": "code",
      "execution_count": null,
      "metadata": {
        "colab": {
          "base_uri": "https://localhost:8080/"
        },
        "id": "M9dNpMJoWYx5",
        "outputId": "e8de1b16-5ba9-4e68-a09e-e9eb58574e58"
      },
      "outputs": [],
      "source": [
        "data.isnull().values.any()"
      ]
    },
    {
      "cell_type": "markdown",
      "metadata": {
        "id": "O7ESAuvZWK7g"
      },
      "source": [
        "Asimismo, se corrobora cuántos casos de `NaN` existen por columna con la ayuda de `isna()` y la función de agregación `sum()`."
      ]
    },
    {
      "cell_type": "code",
      "execution_count": null,
      "metadata": {
        "colab": {
          "base_uri": "https://localhost:8080/"
        },
        "id": "jQpFAZ2yb_3a",
        "outputId": "e1ef6ced-0693-4fd9-f80e-853d289009fb"
      },
      "outputs": [],
      "source": [
        "data.isna().sum()"
      ]
    },
    {
      "cell_type": "markdown",
      "metadata": {
        "id": "IZexdTRUcd-V"
      },
      "source": [
        "De forma similar, se presenta un resumen del número de `NaN`en cada fila."
      ]
    },
    {
      "cell_type": "code",
      "execution_count": null,
      "metadata": {
        "colab": {
          "base_uri": "https://localhost:8080/"
        },
        "id": "osOj2yVMcmWN",
        "outputId": "31e8001b-bb3a-47d7-a369-f54ce0c759ee"
      },
      "outputs": [],
      "source": [
        "data.isna().sum(axis=1)"
      ]
    },
    {
      "cell_type": "markdown",
      "metadata": {
        "id": "pI-R763yXfk6"
      },
      "source": [
        "Para conocer qué proporción del total representan los `Nan` se realiza lo siguiente:"
      ]
    },
    {
      "cell_type": "code",
      "execution_count": null,
      "metadata": {
        "colab": {
          "base_uri": "https://localhost:8080/"
        },
        "id": "fyu0_K5SX08L",
        "outputId": "1f7a29dd-96f0-4d33-e260-d87efc2aa153"
      },
      "outputs": [],
      "source": [
        "nulos_porcentaje=(data.isnull().sum()/len(data))*100 #Porcentaje de valores nulos\n",
        "nulos_porcentaje.sort_values(ascending= False)"
      ]
    },
    {
      "cell_type": "markdown",
      "metadata": {
        "id": "NMKVgXX5fe_R"
      },
      "source": [
        " **Como todos está en ceros, se confirma la presencia de un conjunto de datos completo y sin registros ni campos faltantes.**"
      ]
    },
    {
      "cell_type": "markdown",
      "metadata": {
        "id": "EZObXToC4hvW"
      },
      "source": [
        "#####([Regresar a la tabla de contenidos.](#contenido))"
      ]
    },
    {
      "attachments": {},
      "cell_type": "markdown",
      "metadata": {},
      "source": [
        "#Generando un nuevo dataset con columna con dato de distancia la cenbtro de la ciudad."
      ]
    },
    {
      "cell_type": "code",
      "execution_count": 79,
      "metadata": {},
      "outputs": [
        {
          "data": {
            "text/html": [
              "<div>\n",
              "<style scoped>\n",
              "    .dataframe tbody tr th:only-of-type {\n",
              "        vertical-align: middle;\n",
              "    }\n",
              "\n",
              "    .dataframe tbody tr th {\n",
              "        vertical-align: top;\n",
              "    }\n",
              "\n",
              "    .dataframe thead th {\n",
              "        text-align: right;\n",
              "    }\n",
              "</style>\n",
              "<table border=\"1\" class=\"dataframe\">\n",
              "  <thead>\n",
              "    <tr style=\"text-align: right;\">\n",
              "      <th></th>\n",
              "      <th>latitude</th>\n",
              "      <th>longitude</th>\n",
              "    </tr>\n",
              "  </thead>\n",
              "  <tbody>\n",
              "    <tr>\n",
              "      <th>0</th>\n",
              "      <td>40.650360</td>\n",
              "      <td>-74.003574</td>\n",
              "    </tr>\n",
              "    <tr>\n",
              "      <th>1</th>\n",
              "      <td>33.987589</td>\n",
              "      <td>-118.474525</td>\n",
              "    </tr>\n",
              "    <tr>\n",
              "      <th>2</th>\n",
              "      <td>40.602618</td>\n",
              "      <td>-73.993318</td>\n",
              "    </tr>\n",
              "    <tr>\n",
              "      <th>3</th>\n",
              "      <td>34.072653</td>\n",
              "      <td>-118.096453</td>\n",
              "    </tr>\n",
              "    <tr>\n",
              "      <th>4</th>\n",
              "      <td>41.781916</td>\n",
              "      <td>-87.606271</td>\n",
              "    </tr>\n",
              "  </tbody>\n",
              "</table>\n",
              "</div>"
            ],
            "text/plain": [
              "    latitude   longitude\n",
              "0  40.650360  -74.003574\n",
              "1  33.987589 -118.474525\n",
              "2  40.602618  -73.993318\n",
              "3  34.072653 -118.096453\n",
              "4  41.781916  -87.606271"
            ]
          },
          "execution_count": 79,
          "metadata": {},
          "output_type": "execute_result"
        }
      ],
      "source": [
        "seleccion=data[['latitude','longitude']]\n",
        "seleccion.head()"
      ]
    },
    {
      "cell_type": "code",
      "execution_count": 80,
      "metadata": {},
      "outputs": [
        {
          "data": {
            "text/plain": [
              "latitude     40.650360\n",
              "longitude   -74.003574\n",
              "Name: 0, dtype: float64"
            ]
          },
          "execution_count": 80,
          "metadata": {},
          "output_type": "execute_result"
        }
      ],
      "source": [
        "seleccion.loc[0]"
      ]
    },
    {
      "cell_type": "code",
      "execution_count": 81,
      "metadata": {},
      "outputs": [
        {
          "data": {
            "text/plain": [
              "array(['NYC', 'LA', 'Chicago', 'Boston', 'SF', 'DC'], dtype=object)"
            ]
          },
          "execution_count": 81,
          "metadata": {},
          "output_type": "execute_result"
        }
      ],
      "source": [
        "#Lista de coordenadas por ciudad\n",
        "\n",
        "#Los Angeles, CA, USA. Latitude and longitude coordinates are: 34.052235, -118.243683. \n",
        "la_latitudCentro=34.052235\n",
        "la_longitudCentro=-118.243683\n",
        "# NY Latitude and longitude coordinates are: 40.730610, -73.935242.\n",
        "nyc_latitudCentro=40.730610\n",
        "nyc_longitudCentro=-73.935242\n",
        "# The latitude of Boston, MA, USA is 42.361145, and the longitude is -71.057083\n",
        "boston_latitudCentro=42.361145\n",
        "boston_longitudCentro=-71.057083\n",
        "# The latitude of Chicago, IL, USA is 41.881832, and the longitude is -87.623177\n",
        "chicago_latitudCentro=41.881832\n",
        "chicago_longitudCentro=-87.623177\n",
        "# San Francisco Latitude and longitude coordinates are: 37.773972, -122.431297\n",
        "sf_latitudCentro=37.773972\n",
        "sf_longitudCentro=-122.431297\n",
        "# GPS coordinates of Downtown (Washington, D.C.), United States. Latitude: 38.9015 Longitude: -77.0264.\n",
        "dc_latitudCentro=37.773972\n",
        "dc_longitudCentro=-77.0264\n",
        "#(Fuente https://Latitude.to)\n",
        "\n",
        "#Generando dataframe de trabajo, copia del original\n",
        "df_conCoordenadas = data\n",
        "df_conCoordenadas.city.unique()\n"
      ]
    },
    {
      "cell_type": "code",
      "execution_count": null,
      "metadata": {},
      "outputs": [],
      "source": [
        "df_conCoordenadas"
      ]
    },
    {
      "attachments": {},
      "cell_type": "markdown",
      "metadata": {},
      "source": [
        "Usando numpy para sacar el dato de distacia por suma de vectores y cuadrados sacando raiz.(no se confirmo su uso)"
      ]
    },
    {
      "cell_type": "code",
      "execution_count": null,
      "metadata": {},
      "outputs": [],
      "source": [
        "import numpy as np\n",
        "\n",
        "a = np.array((1, 2))\n",
        "b = np.array((4, 5))\n",
        "dist = np.sqrt(np.sum(np.square(a-b)))\n",
        "print(dist)\n",
        "\n",
        "centro=np.array((la_latitudCentro,la_longitudCentro))\n",
        "coordinates=np.array((sf_latitudCentro,sf_longitudCentro))\n",
        "\n",
        "dist = np.sqrt(np.sum(np.square(coordinates-centro)))\n",
        "\n",
        "print(\"distancia ls a sf\",dist)\n"
      ]
    },
    {
      "attachments": {},
      "cell_type": "markdown",
      "metadata": {},
      "source": [
        "Primer formula para calculo de haversine,( el labda aplly tuvo problemas y ya no se uso )"
      ]
    },
    {
      "cell_type": "code",
      "execution_count": null,
      "metadata": {},
      "outputs": [],
      "source": [
        "from numpy import sin, cos, arccos, pi, round\n",
        "\n",
        "def rad2deg(radians):\n",
        "    degrees = radians * 180 / pi\n",
        "    return degrees\n",
        "\n",
        "def deg2rad(degrees):\n",
        "    radians = degrees * pi / 180\n",
        "    return radians\n",
        "\n",
        "def getDistanceBetweenPointsNew(latitude1, longitude1, latitude2, longitude2, unit = 'miles'):\n",
        "    \n",
        "    theta = longitude1 - longitude2\n",
        "    \n",
        "    distance = 60 * 1.1515 * rad2deg(\n",
        "        arccos(\n",
        "            (sin(deg2rad(latitude1)) * sin(deg2rad(latitude2))) + \n",
        "            (cos(deg2rad(latitude1)) * cos(deg2rad(latitude2)) * cos(deg2rad(theta)))\n",
        "        )\n",
        "    )\n",
        "    \n",
        "    if unit == 'miles':\n",
        "        return round(distance, 2)\n",
        "    if unit == 'kms':\n",
        "        return round(distance * 1.609344, 2)"
      ]
    },
    {
      "cell_type": "code",
      "execution_count": null,
      "metadata": {},
      "outputs": [],
      "source": [
        "def distanciaCentro():\n",
        "  #'LatitudCentro','LongitudCentro',\n",
        "  #columnas = ['Distancia Latitud','DistanciaLongitud','DowntownDistance']\n",
        "\n",
        "  df_Distance = pd.DataFrame()\n",
        "  cities=df_conCoordenadas.city.unique()\n",
        "  for indice in cities:\n",
        "    if(indice=='LA' and df_conCoordenadas['city']=='LA'):\n",
        "      latitude2=la_latitudCentro\n",
        "      longitude2=la_longitudCentro\n",
        "      #distancias.append(data[indice].latitude-la_latitudCentro)\n",
        "      #distancias.append(data[indice].longitude-la_latitudCentro)\n",
        "      #distancias.append(distancia)\n",
        "    if(indice=='NYC'):\n",
        "      latitude2=nyc_latitudCentro\n",
        "      longitude2=nyc_longitudCentro\n",
        "    if(indice=='Boston'):\n",
        "      latitude2=boston_latitudCentro\n",
        "      longitude2=boston_longitudCentro\n",
        "    if(indice=='Chicago'):\n",
        "      latitude2=chicago_latitudCentro\n",
        "      longitude2=chicago_longitudCentro\n",
        "    if(indice=='SF'):\n",
        "      latitude2=sf_latitudCentro\n",
        "      longitude2=sf_longitudCentro\n",
        "    if(indice=='DC'):\n",
        "      latitude2=dc_latitudCentro\n",
        "      longitude2=dc_longitudCentro\n",
        "    #distancias.append(getDistanceBetweenPointsNew(data[indice].latitude, data[indice].longitude, latitude2, longitude2, unit = 'kms'))\n",
        "    df_conCoordenadas['distance']=df_conCoordenadas.apply(lambda fila: getDistanceBetweenPointsNew(fila['longitude'],\n",
        "                                                    fila['latitude'], latitude2, longitude2, unit = 'kms'))\n",
        "  #df_Distance[indice]  = distancias\n",
        "  #df_conCoordenadas=df_conCoordenadas.append(df_Distance)\n",
        "    \n",
        "  #df_Distance.index=columnas\n",
        "  #df_Distance = df_Distance.transpose()\n",
        "  return df_Distance"
      ]
    },
    {
      "cell_type": "code",
      "execution_count": null,
      "metadata": {},
      "outputs": [],
      "source": [
        "distanciaCentro()"
      ]
    },
    {
      "cell_type": "code",
      "execution_count": null,
      "metadata": {},
      "outputs": [],
      "source": [
        "\n",
        "df_Distance.head()"
      ]
    },
    {
      "attachments": {},
      "cell_type": "markdown",
      "metadata": {},
      "source": [
        "Segunda formula de haversine, est afue la que funciono."
      ]
    },
    {
      "cell_type": "code",
      "execution_count": 82,
      "metadata": {},
      "outputs": [],
      "source": [
        "import pandas as pd\n",
        "import numpy as np\n",
        "\n",
        "def haversine(lon2, lat2,lon1, lat1, ):\n",
        "    #Todos son floats\n",
        "    #lon1 = np.radians(lon1)\n",
        "    #lat1 = np.radians(lat1)\n",
        "    #lon2 = np.radians(lon2)\n",
        "    #lat2 = np.radians(lat2)\n",
        "    lon1,lat1,lon2,lat2=map(np.radians,[lon1,lat1,lon2,lat2])\n",
        "\n",
        "    #Radio de la tierra en kms\n",
        "    r = 6371\n",
        "     \n",
        "    dlon = np.subtract(lon2, lon1)\n",
        "    dlat = np.subtract(lat2, lat1)\n",
        "\n",
        "    a = np.add(np.power(np.sin(np.divide(dlat, 2)), 2),\n",
        "               np.multiply(np.cos(lat1),\n",
        "                           np.multiply(np.cos(lat2),\n",
        "                                       np.power(np.sin(np.divide(dlon, 2)), 2))\n",
        "                           )\n",
        "              )\n",
        "    c = np.multiply(2, np.arcsin(np.sqrt(a)))\n",
        "\n",
        "    return c*r"
      ]
    },
    {
      "cell_type": "code",
      "execution_count": 83,
      "metadata": {},
      "outputs": [],
      "source": [
        "df_conCoordenadas['latitudeCentro']=np.where(df_conCoordenadas['city'] =='LA', la_latitudCentro,\n",
        "  np.where(df_conCoordenadas['city'] =='NYC',nyc_latitudCentro,\n",
        "  np.where(df_conCoordenadas['city'] =='Boston', boston_latitudCentro,\n",
        "  np.where(df_conCoordenadas['city'] =='Chicago', chicago_latitudCentro,\n",
        "  np.where(df_conCoordenadas['city'] =='SF', sf_latitudCentro, dc_latitudCentro\n",
        "  )))))\n",
        "\n",
        "df_conCoordenadas['longitudeCentro']= np.where(df_conCoordenadas['city'] =='LA', la_longitudCentro,\n",
        "  np.where(df_conCoordenadas['city'] =='NYC',nyc_longitudCentro,\n",
        "  np.where(df_conCoordenadas['city'] =='Boston', boston_longitudCentro,\n",
        "  np.where(df_conCoordenadas['city'] =='Chicago', chicago_longitudCentro,\n",
        "  np.where(df_conCoordenadas['city'] =='SF', sf_longitudCentro, dc_longitudCentro\n",
        "  )))))"
      ]
    },
    {
      "cell_type": "code",
      "execution_count": 84,
      "metadata": {},
      "outputs": [],
      "source": [
        "#df_result = pd.DataFrame([])\n",
        "#df_Distance = pd.DataFrame()\n",
        "#cities=df_conCoordenadas.city.unique()\n",
        "\n",
        "df_conCoordenadas['distanciaCentro'] = df_conCoordenadas.apply(lambda fila: haversine(fila['longitudeCentro'],fila['latitudeCentro'],fila['longitude'],fila['latitude']),axis=1)\n",
        "\n",
        "#Agregamos el dataframe reducido a nuestro dataframe resultante.\n",
        "#df_result = df_result.append(df_conCoordenadas)"
      ]
    },
    {
      "cell_type": "code",
      "execution_count": 85,
      "metadata": {},
      "outputs": [
        {
          "data": {
            "text/html": [
              "<div>\n",
              "<style scoped>\n",
              "    .dataframe tbody tr th:only-of-type {\n",
              "        vertical-align: middle;\n",
              "    }\n",
              "\n",
              "    .dataframe tbody tr th {\n",
              "        vertical-align: top;\n",
              "    }\n",
              "\n",
              "    .dataframe thead th {\n",
              "        text-align: right;\n",
              "    }\n",
              "</style>\n",
              "<table border=\"1\" class=\"dataframe\">\n",
              "  <thead>\n",
              "    <tr style=\"text-align: right;\">\n",
              "      <th></th>\n",
              "      <th>property_type</th>\n",
              "      <th>room_type</th>\n",
              "      <th>amenities</th>\n",
              "      <th>accommodates</th>\n",
              "      <th>bathrooms</th>\n",
              "      <th>bed_type</th>\n",
              "      <th>cancellation_policy</th>\n",
              "      <th>cleaning_fee</th>\n",
              "      <th>city</th>\n",
              "      <th>description</th>\n",
              "      <th>...</th>\n",
              "      <th>review_scores_rating</th>\n",
              "      <th>zipcode</th>\n",
              "      <th>bedrooms</th>\n",
              "      <th>beds</th>\n",
              "      <th>price</th>\n",
              "      <th>n_days_lastrev</th>\n",
              "      <th>n_days_ashost</th>\n",
              "      <th>latitudeCentro</th>\n",
              "      <th>longitudeCentro</th>\n",
              "      <th>distanciaCentro</th>\n",
              "    </tr>\n",
              "  </thead>\n",
              "  <tbody>\n",
              "    <tr>\n",
              "      <th>0</th>\n",
              "      <td>House</td>\n",
              "      <td>2</td>\n",
              "      <td>{\"Wireless Internet\",\"Air conditioning\",Kitche...</td>\n",
              "      <td>2</td>\n",
              "      <td>0.0</td>\n",
              "      <td>1</td>\n",
              "      <td>3</td>\n",
              "      <td>1</td>\n",
              "      <td>NYC</td>\n",
              "      <td>This is a comfortable, simple beautiful room, ...</td>\n",
              "      <td>...</td>\n",
              "      <td>89</td>\n",
              "      <td>11232</td>\n",
              "      <td>1.0</td>\n",
              "      <td>1.0</td>\n",
              "      <td>50.0</td>\n",
              "      <td>2003</td>\n",
              "      <td>4200</td>\n",
              "      <td>40.730610</td>\n",
              "      <td>-73.935242</td>\n",
              "      <td>10.621672</td>\n",
              "    </tr>\n",
              "    <tr>\n",
              "      <th>1</th>\n",
              "      <td>Apartment</td>\n",
              "      <td>3</td>\n",
              "      <td>{Internet,\"Wireless Internet\",Kitchen,Heating,...</td>\n",
              "      <td>2</td>\n",
              "      <td>1.0</td>\n",
              "      <td>1</td>\n",
              "      <td>3</td>\n",
              "      <td>1</td>\n",
              "      <td>LA</td>\n",
              "      <td>Renovated clean &amp; modern 1 bedroom in the hear...</td>\n",
              "      <td>...</td>\n",
              "      <td>98</td>\n",
              "      <td>90291</td>\n",
              "      <td>1.0</td>\n",
              "      <td>1.0</td>\n",
              "      <td>199.0</td>\n",
              "      <td>2430</td>\n",
              "      <td>3272</td>\n",
              "      <td>34.052235</td>\n",
              "      <td>-118.243683</td>\n",
              "      <td>22.456674</td>\n",
              "    </tr>\n",
              "    <tr>\n",
              "      <th>2</th>\n",
              "      <td>Apartment</td>\n",
              "      <td>3</td>\n",
              "      <td>{TV,Internet,\"Wireless Internet\",\"Air conditio...</td>\n",
              "      <td>4</td>\n",
              "      <td>1.0</td>\n",
              "      <td>1</td>\n",
              "      <td>3</td>\n",
              "      <td>1</td>\n",
              "      <td>NYC</td>\n",
              "      <td>My studio is located in the heart of Bensonhur...</td>\n",
              "      <td>...</td>\n",
              "      <td>94</td>\n",
              "      <td>11214</td>\n",
              "      <td>0.0</td>\n",
              "      <td>2.0</td>\n",
              "      <td>85.0</td>\n",
              "      <td>2057</td>\n",
              "      <td>2756</td>\n",
              "      <td>40.730610</td>\n",
              "      <td>-73.935242</td>\n",
              "      <td>15.051423</td>\n",
              "    </tr>\n",
              "    <tr>\n",
              "      <th>3</th>\n",
              "      <td>Townhouse</td>\n",
              "      <td>2</td>\n",
              "      <td>{\"Wireless Internet\",\"Air conditioning\",\"Pets ...</td>\n",
              "      <td>3</td>\n",
              "      <td>1.0</td>\n",
              "      <td>1</td>\n",
              "      <td>3</td>\n",
              "      <td>1</td>\n",
              "      <td>LA</td>\n",
              "      <td>我们位于洛杉矶圣盖博市,距离夏威夷超市,99大华超市,顺发超市(全部为华人超市,语言沟通无障...</td>\n",
              "      <td>...</td>\n",
              "      <td>95</td>\n",
              "      <td>91776</td>\n",
              "      <td>1.0</td>\n",
              "      <td>2.0</td>\n",
              "      <td>70.0</td>\n",
              "      <td>2182</td>\n",
              "      <td>2559</td>\n",
              "      <td>34.052235</td>\n",
              "      <td>-118.243683</td>\n",
              "      <td>13.751080</td>\n",
              "    </tr>\n",
              "    <tr>\n",
              "      <th>4</th>\n",
              "      <td>Condominium</td>\n",
              "      <td>3</td>\n",
              "      <td>{TV,\"Cable TV\",Internet,\"Wireless Internet\",\"A...</td>\n",
              "      <td>5</td>\n",
              "      <td>2.0</td>\n",
              "      <td>1</td>\n",
              "      <td>3</td>\n",
              "      <td>1</td>\n",
              "      <td>Chicago</td>\n",
              "      <td>Located in the heart of the bustling Woodlawn/...</td>\n",
              "      <td>...</td>\n",
              "      <td>88</td>\n",
              "      <td>60637</td>\n",
              "      <td>2.0</td>\n",
              "      <td>2.0</td>\n",
              "      <td>72.0</td>\n",
              "      <td>2192</td>\n",
              "      <td>2960</td>\n",
              "      <td>41.881832</td>\n",
              "      <td>-87.623177</td>\n",
              "      <td>11.198063</td>\n",
              "    </tr>\n",
              "    <tr>\n",
              "      <th>...</th>\n",
              "      <td>...</td>\n",
              "      <td>...</td>\n",
              "      <td>...</td>\n",
              "      <td>...</td>\n",
              "      <td>...</td>\n",
              "      <td>...</td>\n",
              "      <td>...</td>\n",
              "      <td>...</td>\n",
              "      <td>...</td>\n",
              "      <td>...</td>\n",
              "      <td>...</td>\n",
              "      <td>...</td>\n",
              "      <td>...</td>\n",
              "      <td>...</td>\n",
              "      <td>...</td>\n",
              "      <td>...</td>\n",
              "      <td>...</td>\n",
              "      <td>...</td>\n",
              "      <td>...</td>\n",
              "      <td>...</td>\n",
              "      <td>...</td>\n",
              "    </tr>\n",
              "    <tr>\n",
              "      <th>59283</th>\n",
              "      <td>House</td>\n",
              "      <td>3</td>\n",
              "      <td>{TV,\"Cable TV\",Internet,\"Wireless Internet\",\"A...</td>\n",
              "      <td>5</td>\n",
              "      <td>2.0</td>\n",
              "      <td>1</td>\n",
              "      <td>2</td>\n",
              "      <td>1</td>\n",
              "      <td>LA</td>\n",
              "      <td>Our newly renovated House is in the Lake Balbo...</td>\n",
              "      <td>...</td>\n",
              "      <td>88</td>\n",
              "      <td>91406</td>\n",
              "      <td>3.0</td>\n",
              "      <td>3.0</td>\n",
              "      <td>225.0</td>\n",
              "      <td>2239</td>\n",
              "      <td>4227</td>\n",
              "      <td>34.052235</td>\n",
              "      <td>-118.243683</td>\n",
              "      <td>28.826098</td>\n",
              "    </tr>\n",
              "    <tr>\n",
              "      <th>59284</th>\n",
              "      <td>Condominium</td>\n",
              "      <td>3</td>\n",
              "      <td>{TV,\"Cable TV\",\"Wireless Internet\",\"Air condit...</td>\n",
              "      <td>2</td>\n",
              "      <td>1.5</td>\n",
              "      <td>1</td>\n",
              "      <td>3</td>\n",
              "      <td>1</td>\n",
              "      <td>NYC</td>\n",
              "      <td>Beautiful modern duplex in old traditional Har...</td>\n",
              "      <td>...</td>\n",
              "      <td>100</td>\n",
              "      <td>10027</td>\n",
              "      <td>1.0</td>\n",
              "      <td>1.0</td>\n",
              "      <td>200.0</td>\n",
              "      <td>2017</td>\n",
              "      <td>4644</td>\n",
              "      <td>40.730610</td>\n",
              "      <td>-73.935242</td>\n",
              "      <td>8.691043</td>\n",
              "    </tr>\n",
              "    <tr>\n",
              "      <th>59285</th>\n",
              "      <td>Apartment</td>\n",
              "      <td>3</td>\n",
              "      <td>{TV,Internet,\"Wireless Internet\",\"Air conditio...</td>\n",
              "      <td>3</td>\n",
              "      <td>1.0</td>\n",
              "      <td>1</td>\n",
              "      <td>2</td>\n",
              "      <td>1</td>\n",
              "      <td>LA</td>\n",
              "      <td>Explore Los Angeles with your own private cott...</td>\n",
              "      <td>...</td>\n",
              "      <td>0</td>\n",
              "      <td>90064</td>\n",
              "      <td>1.0</td>\n",
              "      <td>2.0</td>\n",
              "      <td>135.0</td>\n",
              "      <td>19436</td>\n",
              "      <td>2996</td>\n",
              "      <td>34.052235</td>\n",
              "      <td>-118.243683</td>\n",
              "      <td>18.658614</td>\n",
              "    </tr>\n",
              "    <tr>\n",
              "      <th>59286</th>\n",
              "      <td>Apartment</td>\n",
              "      <td>3</td>\n",
              "      <td>{TV,\"Wireless Internet\",\"Air conditioning\",\"Wh...</td>\n",
              "      <td>3</td>\n",
              "      <td>1.0</td>\n",
              "      <td>1</td>\n",
              "      <td>3</td>\n",
              "      <td>1</td>\n",
              "      <td>NYC</td>\n",
              "      <td>Quiet 1 bedroom apartment located in luxury co...</td>\n",
              "      <td>...</td>\n",
              "      <td>100</td>\n",
              "      <td>11206</td>\n",
              "      <td>1.0</td>\n",
              "      <td>1.0</td>\n",
              "      <td>115.0</td>\n",
              "      <td>2046</td>\n",
              "      <td>3141</td>\n",
              "      <td>40.730610</td>\n",
              "      <td>-73.935242</td>\n",
              "      <td>3.362620</td>\n",
              "    </tr>\n",
              "    <tr>\n",
              "      <th>59287</th>\n",
              "      <td>House</td>\n",
              "      <td>3</td>\n",
              "      <td>{TV,\"Cable TV\",Internet,\"Wireless Internet\",\"A...</td>\n",
              "      <td>14</td>\n",
              "      <td>3.0</td>\n",
              "      <td>1</td>\n",
              "      <td>3</td>\n",
              "      <td>1</td>\n",
              "      <td>LA</td>\n",
              "      <td>Come stay in this nice and spacious 4 bedroom ...</td>\n",
              "      <td>...</td>\n",
              "      <td>93</td>\n",
              "      <td>90035</td>\n",
              "      <td>4.0</td>\n",
              "      <td>5.0</td>\n",
              "      <td>360.0</td>\n",
              "      <td>2458</td>\n",
              "      <td>3139</td>\n",
              "      <td>34.052235</td>\n",
              "      <td>-118.243683</td>\n",
              "      <td>12.300389</td>\n",
              "    </tr>\n",
              "  </tbody>\n",
              "</table>\n",
              "<p>59288 rows × 29 columns</p>\n",
              "</div>"
            ],
            "text/plain": [
              "      property_type  room_type  \\\n",
              "0             House          2   \n",
              "1         Apartment          3   \n",
              "2         Apartment          3   \n",
              "3         Townhouse          2   \n",
              "4       Condominium          3   \n",
              "...             ...        ...   \n",
              "59283         House          3   \n",
              "59284   Condominium          3   \n",
              "59285     Apartment          3   \n",
              "59286     Apartment          3   \n",
              "59287         House          3   \n",
              "\n",
              "                                               amenities  accommodates  \\\n",
              "0      {\"Wireless Internet\",\"Air conditioning\",Kitche...             2   \n",
              "1      {Internet,\"Wireless Internet\",Kitchen,Heating,...             2   \n",
              "2      {TV,Internet,\"Wireless Internet\",\"Air conditio...             4   \n",
              "3      {\"Wireless Internet\",\"Air conditioning\",\"Pets ...             3   \n",
              "4      {TV,\"Cable TV\",Internet,\"Wireless Internet\",\"A...             5   \n",
              "...                                                  ...           ...   \n",
              "59283  {TV,\"Cable TV\",Internet,\"Wireless Internet\",\"A...             5   \n",
              "59284  {TV,\"Cable TV\",\"Wireless Internet\",\"Air condit...             2   \n",
              "59285  {TV,Internet,\"Wireless Internet\",\"Air conditio...             3   \n",
              "59286  {TV,\"Wireless Internet\",\"Air conditioning\",\"Wh...             3   \n",
              "59287  {TV,\"Cable TV\",Internet,\"Wireless Internet\",\"A...            14   \n",
              "\n",
              "       bathrooms  bed_type  cancellation_policy  cleaning_fee     city  \\\n",
              "0            0.0         1                    3             1      NYC   \n",
              "1            1.0         1                    3             1       LA   \n",
              "2            1.0         1                    3             1      NYC   \n",
              "3            1.0         1                    3             1       LA   \n",
              "4            2.0         1                    3             1  Chicago   \n",
              "...          ...       ...                  ...           ...      ...   \n",
              "59283        2.0         1                    2             1       LA   \n",
              "59284        1.5         1                    3             1      NYC   \n",
              "59285        1.0         1                    2             1       LA   \n",
              "59286        1.0         1                    3             1      NYC   \n",
              "59287        3.0         1                    3             1       LA   \n",
              "\n",
              "                                             description  ...  \\\n",
              "0      This is a comfortable, simple beautiful room, ...  ...   \n",
              "1      Renovated clean & modern 1 bedroom in the hear...  ...   \n",
              "2      My studio is located in the heart of Bensonhur...  ...   \n",
              "3      我们位于洛杉矶圣盖博市,距离夏威夷超市,99大华超市,顺发超市(全部为华人超市,语言沟通无障...  ...   \n",
              "4      Located in the heart of the bustling Woodlawn/...  ...   \n",
              "...                                                  ...  ...   \n",
              "59283  Our newly renovated House is in the Lake Balbo...  ...   \n",
              "59284  Beautiful modern duplex in old traditional Har...  ...   \n",
              "59285  Explore Los Angeles with your own private cott...  ...   \n",
              "59286  Quiet 1 bedroom apartment located in luxury co...  ...   \n",
              "59287  Come stay in this nice and spacious 4 bedroom ...  ...   \n",
              "\n",
              "       review_scores_rating  zipcode  bedrooms  beds  price  n_days_lastrev  \\\n",
              "0                        89    11232       1.0   1.0   50.0            2003   \n",
              "1                        98    90291       1.0   1.0  199.0            2430   \n",
              "2                        94    11214       0.0   2.0   85.0            2057   \n",
              "3                        95    91776       1.0   2.0   70.0            2182   \n",
              "4                        88    60637       2.0   2.0   72.0            2192   \n",
              "...                     ...      ...       ...   ...    ...             ...   \n",
              "59283                    88    91406       3.0   3.0  225.0            2239   \n",
              "59284                   100    10027       1.0   1.0  200.0            2017   \n",
              "59285                     0    90064       1.0   2.0  135.0           19436   \n",
              "59286                   100    11206       1.0   1.0  115.0            2046   \n",
              "59287                    93    90035       4.0   5.0  360.0            2458   \n",
              "\n",
              "      n_days_ashost latitudeCentro  longitudeCentro  distanciaCentro  \n",
              "0              4200      40.730610       -73.935242        10.621672  \n",
              "1              3272      34.052235      -118.243683        22.456674  \n",
              "2              2756      40.730610       -73.935242        15.051423  \n",
              "3              2559      34.052235      -118.243683        13.751080  \n",
              "4              2960      41.881832       -87.623177        11.198063  \n",
              "...             ...            ...              ...              ...  \n",
              "59283          4227      34.052235      -118.243683        28.826098  \n",
              "59284          4644      40.730610       -73.935242         8.691043  \n",
              "59285          2996      34.052235      -118.243683        18.658614  \n",
              "59286          3141      40.730610       -73.935242         3.362620  \n",
              "59287          3139      34.052235      -118.243683        12.300389  \n",
              "\n",
              "[59288 rows x 29 columns]"
            ]
          },
          "execution_count": 85,
          "metadata": {},
          "output_type": "execute_result"
        }
      ],
      "source": [
        "df_conCoordenadas"
      ]
    },
    {
      "cell_type": "code",
      "execution_count": null,
      "metadata": {},
      "outputs": [],
      "source": [
        "#Correccion al calculo de columnas para haversine\n",
        "# df_result = pd.DataFrame([])\n",
        "df_Distance = pd.DataFrame()\n",
        "cities=df_conCoordenadas.city.unique()\n",
        "\n",
        "for indice in cities:\n",
        "\n",
        "    #distancias= []\n",
        "    #if(indice=='LA'):\n",
        "    if(indice=='LA' and df_conCoordenadas['city']==indice):\n",
        "      latitude2=la_latitudCentro\n",
        "      longitude2=la_longitudCentro\n",
        "      #distancias.append(df_conCoordenadas[indice].latitude-la_latitudCentro)\n",
        "      #distancias.append(df_conCoordenadas[indice].longitude-la_latitudCentro)\n",
        "      #distancias.append(distancia)\n",
        "    if(indice=='NYC'):\n",
        "      latitude2=nyc_latitudCentro\n",
        "      longitude2=nyc_longitudCentro\n",
        "    if(indice=='Boston'):\n",
        "      latitude2=boston_latitudCentro\n",
        "      longitude2=boston_longitudCentro\n",
        "    if(indice=='Chicago'):\n",
        "      latitude2=chicago_latitudCentro\n",
        "      longitude2=chicago_longitudCentro\n",
        "    if(indice=='SF'):\n",
        "      latitude2=sf_latitudCentro\n",
        "      longitude2=sf_longitudCentro\n",
        "    if(indice=='DC'):\n",
        "      latitude2=dc_latitudCentro\n",
        "      longitude2=dc_longitudCentro\n",
        "    df_conCoordenadas['latitudCentro']=latitude2\n",
        "    df_conCoordenadas['longitudCentro']=longitude2\n",
        "\n",
        "    df_conCoordenadas['distancia'] = df_conCoordenadas.apply(lambda fila: haversine(longitude2,latitude2,fila['longitude'],fila['latitude']),axis=1)\n",
        "\n",
        "    #df_conCoordenadas['distancia'] = df_conCoordenadas.apply(lambda fila: haversine(fila['longitudeCentro'],fila['latitudeCentro'],fila['longitude'],fila['latitude']),axis=1)\n",
        "#Agregamos el dataframe reducido a nuestro dataframe resultante.\n",
        "df_result = df_result.append(df_conCoordenadas)"
      ]
    },
    {
      "attachments": {},
      "cell_type": "markdown",
      "metadata": {},
      "source": [
        "Guardando dataset, al final se agrego la columna de la distancia. Los datos son en millas."
      ]
    },
    {
      "cell_type": "code",
      "execution_count": null,
      "metadata": {},
      "outputs": [],
      "source": [
        "'''\n",
        "Calculate distance using the Haversine Formula\n",
        "'''\n",
        "\n",
        "def haversine3(coord1: object, coord2: object):\n",
        "    import math\n",
        "\n",
        "    # Coordinates in decimal degrees (e.g. 2.89078, 12.79797)\n",
        "    lon1, lat1 = coord1\n",
        "    lon2, lat2 = coord2\n",
        "\n",
        "    R = 6371000  # radius of Earth in math.\n",
        "    phi_1 = math.radians(lat1)\n",
        "    phi_2 = math.radians(lat2)\n",
        "\n",
        "    delta_phi = math.radians(lat2 - lat1)\n",
        "    delta_lambda = math.radians(lon2 - lon1)\n",
        "\n",
        "    a = math.sin(delta_phi / 2.0) ** 2 + math.cos(phi_1) * math.cos(phi_2) * math.sin(delta_lambda / 2.0) ** 2\n",
        "    \n",
        "    c = 2 * math.atan2(math.sqrt(a), math.sqrt(1 - a))\n",
        "\n",
        "    meters = R * c  # output distance in meters\n",
        "    km = meters / 1000.0  # output distance in kilometers\n",
        "\n",
        "    meters = round(meters, 3)\n",
        "    km = round(km, 3)\n",
        "\n",
        "\n",
        "\n",
        "    print(f\"Distance: {meters} m\")\n",
        "    print(f\"Distance: {km} km\")"
      ]
    },
    {
      "cell_type": "code",
      "execution_count": null,
      "metadata": {},
      "outputs": [],
      "source": [
        "latitude1   =  40.650360\n",
        "longitude1  = -74.003574"
      ]
    },
    {
      "cell_type": "code",
      "execution_count": null,
      "metadata": {},
      "outputs": [],
      "source": [
        "'''\n",
        "Calculate distance using the Haversine Formula\n",
        "'''\n",
        "\n",
        "def haversine4(lon1, lat1, lon2, lat2):\n",
        "    \n",
        "    R = 6371000  # radius of Earth in meters\n",
        "    phi_1 = np.radians(lat1)\n",
        "    phi_2 = np.radians(lat2)\n",
        "    lat1 = np.radians(lat1)\n",
        "    lat2 = np.radians(lat2) \n",
        "    lon1 = np.radians(lon1)\n",
        "    lon2 = np.radians(lon2)\n",
        "\n",
        "    delta_phi = (lat2 - lat1)\n",
        "    delta_lambda =(lon2 - lon1)\n",
        "\n",
        "    a = np.sin(delta_phi / 2.0) ** 2 + np.cos(phi_1) * np.cos(phi_2) * np.sin(delta_lambda / 2.0) ** 2\n",
        "    \n",
        "    c = 2 * np.arcsin(np.sqrt(a))\n",
        "\n",
        "    meters = R * c  # output distance in meters\n",
        "    km = meters / 1000.0  # output distance in kilometers\n",
        "\n",
        "    meters = round(meters, 3)\n",
        "    km = round(km, 3)\n",
        "\n",
        "\n",
        "\n",
        "    print(f\"Distance: {meters} m\")\n",
        "    print(f\"Distance: {km} km\")"
      ]
    },
    {
      "cell_type": "code",
      "execution_count": null,
      "metadata": {},
      "outputs": [],
      "source": [
        "haversine3([-0.116773, 51.510357], [-77.009003, 38.889931])\n",
        "\n",
        "#Distance: 5897658.289 m\n",
        "#Distance: 5897.658 km‍‍‍‍‍‍‍‍‍‍‍‍‍‍‍‍‍‍‍‍‍‍‍‍‍‍‍‍‍‍‍‍\n",
        "haversine3([latitude1,longitude1],[nyc_latitudCentro,nyc_longitudCentro])"
      ]
    },
    {
      "cell_type": "code",
      "execution_count": null,
      "metadata": {},
      "outputs": [],
      "source": [
        "haversine4(-0.116773, 51.510357,-77.009003, 38.889931)\n",
        "\n",
        "#Distance: 5897658.289 m\n",
        "#Distance: 5897.658 km‍‍‍‍‍‍‍‍‍‍‍‍‍‍‍‍‍‍‍‍‍‍‍‍‍‍‍‍‍‍‍‍\n",
        "haversine4(latitude1,longitude1,nyc_latitudCentro,nyc_longitudCentro)"
      ]
    },
    {
      "cell_type": "code",
      "execution_count": null,
      "metadata": {},
      "outputs": [],
      "source": [
        "seleccion=df_result[['latitude','longitude','distancia']]\n",
        "seleccion.head()"
      ]
    },
    {
      "cell_type": "code",
      "execution_count": 87,
      "metadata": {},
      "outputs": [],
      "source": [
        "df_conCoordenadas.to_csv(\"Dataset_conDistanciasCentrosyCoordCentros.csv\", index=False)"
      ]
    },
    {
      "cell_type": "code",
      "execution_count": 88,
      "metadata": {},
      "outputs": [],
      "source": [
        "df_conCoordenadas.to_csv(\"Dataset_conDistanciasCentros.csv\", index=False)"
      ]
    },
    {
      "attachments": {},
      "cell_type": "markdown",
      "metadata": {},
      "source": [
        "#####([Regresar a la tabla de contenidos.](#contenido))"
      ]
    },
    {
      "cell_type": "markdown",
      "metadata": {
        "id": "dOW_pMci9cKk"
      },
      "source": [
        "##<div class=\"markdown-google-sans\"><a name=\"conclusiones\">Conclusiones y siguientes pasos</a></div> "
      ]
    },
    {
      "cell_type": "markdown",
      "metadata": {
        "id": "EeptQRU4-GQG"
      },
      "source": [
        "Una vez finalizado el análisis y la manipulación del conjunto de datos inicial, es posible concluir lo siguiente:\n",
        "* La información filtrada y transformada para su mejor aprovechamiento únicamente explica menos 30% del comportamiento del precio de una propiedad listada en Airbnb. \n",
        "* Al descartar variables por no tener una correlación tan alta, se perdió información que abonaba a la explicación de la varianza. No obstante, esa ganancia no era significativa en comparación a la complejidad que ganaba el modelo con tantas variables más.\n",
        "* Al ser tan bajo el porcentaje de la explicación de la variabilidad, se evidencia que seguramente existen variables que no aparecen en el conjunto de datos original y que podrían tener mayor influencia en el comportamiento del precio, por ejemplo: tamaño de la propiedad, superficie en metros cuadrados, cercanía a sitios de interés turístico, día de la semana de la reserva, si es un día festivo o no, si es temporada vacacional o no, etc.\n",
        "* Otra variable que puede agregar información importante tiene que ver con la presencia de amenidades en la propiedad. Como la variable original lista las amenidades entre llaves, se propone la creación de funciones que permitan convertir a `dummy`cada amenidad existente. Lo anterior podría abonar a la explicación del precio.\n",
        "* Para precios bajos, el modelo de regresión lineal tiene un desempeño pobre, pero mejor que para precios altos, pues la predicción es más parecida al precio real. Esto corresponde con lo observado en el análisis exploratorio, pues únicamente el 3% de las observaciones originales tenía dicho rango de precios y, con tan pocos datos, ningún modelo tiene los elementos suficientes para predecir correctamente precios concretos. \n",
        "* Aproximar el precio de las propiedades clasificándolos en \"Alto\" y \"Bajo\" tiene un mucho mejor desempeño y precisión, incluso con pocas variables predictoras. \n",
        "* El análisis de texto para las descripciones, reseñas y amenidades abonó para entender cómo la frecuencia y repetición de ciertas palabras arrojan una explicación al por qué una propiedad es más cara o más barata.\n",
        "\n",
        "Por lo anterior, tiene mérito establecer como siguiente paso el desarrollo de modelos con mejor desempeño en la predicción de precios, ya sea utilizando diferentes algoritmos o predictores disponibles (como las amenidades), o bien, buscando fuentes de información con más variables de las observaciones existentes o nuevos registros de propiedades con precios altos para correr el modelo sugerido. \n",
        "\n",
        "También puede intentarse correr otros modelos con la misma información, pero esto será posible hasta módulos posteriores, donde se aprenda sobre modelos de aprendizaje supervisado más avanzados que una Regresión Lineal."
      ]
    },
    {
      "cell_type": "markdown",
      "metadata": {
        "id": "kl7DkTBM9lUM"
      },
      "source": [
        "#####([Regresar a la tabla de contenidos.](#contenido))"
      ]
    }
  ],
  "metadata": {
    "colab": {
      "collapsed_sections": [
        "13XrCYO6bA5E"
      ],
      "provenance": []
    },
    "kernelspec": {
      "display_name": "Python 3",
      "name": "python3"
    },
    "language_info": {
      "codemirror_mode": {
        "name": "ipython",
        "version": 3
      },
      "file_extension": ".py",
      "mimetype": "text/x-python",
      "name": "python",
      "nbconvert_exporter": "python",
      "pygments_lexer": "ipython3",
      "version": "3.9.13"
    }
  },
  "nbformat": 4,
  "nbformat_minor": 0
}
